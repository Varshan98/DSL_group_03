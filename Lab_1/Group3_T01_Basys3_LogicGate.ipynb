{
  "cells": [
    {
      "cell_type": "markdown",
      "metadata": {
        "id": "view-in-github",
        "colab_type": "text"
      },
      "source": [
        "<a href=\"https://colab.research.google.com/github/Varshan98/DSL_group_03/blob/main/Group3_T01_Basys3_LogicGate.ipynb\" target=\"_parent\"><img src=\"https://colab.research.google.com/assets/colab-badge.svg\" alt=\"Open In Colab\"/></a>"
      ]
    },
    {
      "cell_type": "markdown",
      "source": [
        "## 30.110 Digital Systems Lab Group 3"
      ],
      "metadata": {
        "id": "IOtLoFKHOPuV"
      }
    },
    {
      "cell_type": "markdown",
      "source": [
        "#### Members: Ahmad Danish Bin Azil (1006659), Leow Jing Ting (1006392), Lim Yee Kiat (1004224), Matthew Yim Tong Wong (1009835), Rk Suriya Varshan Suriyakumar Ramesh (1006362)"
      ],
      "metadata": {
        "id": "zz7sAPXcObbr"
      }
    },
    {
      "cell_type": "markdown",
      "source": [
        "\n",
        "1. **Inputs**:  \n",
        "   - `sw[0]` (Input A)  \n",
        "   - `sw[1]` (Input B)  \n",
        "2. **Outputs**:  \n",
        "   - Use `led[0]` to `led[7]` to represent the output of each logic gate (see table below).  \n",
        "3. **Truth Table**:\n",
        "\n",
        "| sw[1] (B) | sw[0] (A) | NOT A (led[0]) | NOT B (led[1]) | AND (led[2]) | OR (led[3]) | NOR (led[4]) | NAND (led[5]) | XOR (led[6]) | XNOR (led[7]) |\n",
        "|:---------:|:---------:|:--------------:|:--------------:|:-----------:|:----------:|:-----------:|:------------:|:-----------:|:------------:|\n",
        "| 0         | 0         | 1              | 1              | 0           | 0          | 1           | 1            | 0           | 1            |\n",
        "| 0         | 1         | 0              | 1              | 0           | 1          | 0           | 1            | 1           | 0            |\n",
        "| 1         | 0         | 1              | 0              | 0           | 1          | 0           | 1            | 1           | 0            |\n",
        "| 1         | 1         | 0              | 0              | 1           | 1          | 0           | 0            | 0           | 1            |\n"
      ],
      "metadata": {
        "id": "d_i2PJivOhV7"
      }
    },
    {
      "cell_type": "markdown",
      "source": [
        "## Instructions"
      ],
      "metadata": {
        "id": "scDyn9skO0zL"
      }
    },
    {
      "cell_type": "markdown",
      "source": [
        "1. A self-contained `ipynb` file with:  \n",
        "   - **Verilog code** (module, testbench, and waveform screenshots).  \n",
        "   - **Google Colab/GitHub link** for collaboration.  \n",
        "   - **Demo video** (showing switch inputs and LED outputs).  \n",
        "   - **Brief report** documenting design steps, challenges, and lessons learned.\n",
        "   - The report should present how AI is used in the design (if applicable). The guideline: [![Open in Colab](https://colab.research.google.com/assets/colab-badge.svg)](https://github.com/pe8sutd/Colab_DSL_Practice25/blob/main/G01_Used_of_AI_in_Design.ipynb)\n",
        "     \n",
        "2. Submit to **edimension** and share with instructor GitHub: `pe8sutd`."
      ],
      "metadata": {
        "id": "xTJMWuQRVQHr"
      }
    },
    {
      "cell_type": "markdown",
      "source": [
        "## Demo"
      ],
      "metadata": {
        "id": "ry2RShl0zumm"
      }
    },
    {
      "cell_type": "markdown",
      "source": [
        "Show the LEDs updating in real-time as switches `sw[0]` and `sw[1]` toggle.\n",
        "\n",
        "### SW[1:0] = 2'b00\n",
        "![SW00](https://github.com/pe8sutd/Colab_DSL_Practice25/blob/main/figure/T01_sw00.jpg?raw=1)\n",
        "\n",
        "### SW[1:0] = 2'b01\n",
        "![SW01](https://github.com/pe8sutd/Colab_DSL_Practice25/blob/main/figure/T01_sw01.jpg?raw=1)\n",
        "\n",
        "### SW[1:0] = 2'b10\n",
        "![SW10](https://github.com/pe8sutd/Colab_DSL_Practice25/blob/main/figure/T01_sw10.jpg?raw=1)\n",
        "\n",
        "### SW[1:0] = 2'b11\n",
        "![SW11](https://github.com/pe8sutd/Colab_DSL_Practice25/blob/main/figure/T01_sw11.jpg?raw=1)"
      ],
      "metadata": {
        "id": "zNCb9Nu2zicX"
      }
    }
  ],
  "metadata": {
    "colab": {
      "provenance": [],
      "include_colab_link": true
    },
    "language_info": {
      "name": "python"
    }
  },
  "nbformat": 4,
  "nbformat_minor": 0
}