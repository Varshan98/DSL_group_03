{
  "cells": [
    {
      "cell_type": "markdown",
      "metadata": {
        "colab_type": "text",
        "id": "view-in-github"
      },
      "source": [
        "<a href=\"https://colab.research.google.com/github/Varshan98/DSL_group_03/blob/main/Lab_3/Lab3Report.ipynb\" target=\"_parent\"><img src=\"https://colab.research.google.com/assets/colab-badge.svg\" alt=\"Open In Colab\"/></a>"
      ]
    },
    {
      "cell_type": "markdown",
      "metadata": {
        "id": "RbiFpOXa677k"
      },
      "source": [
        "#30.110 Digital Systems Lab Group 3\n",
        "\n",
        "Members: Ahmad Danish Bin Azil (1006659), Leow Jing Ting (1006392), Lim Yee Kiat (1004224), Matthew Yim Tong Wong (1009835), Rk Suriya Varshan Suriyakumar Ramesh (1006362)"
      ]
    },
    {
      "cell_type": "markdown",
      "metadata": {
        "id": "K_89i3Pk4Jy-"
      },
      "source": [
        "## Design Overview"
      ]
    },
    {
      "cell_type": "markdown",
      "metadata": {
        "id": "dUevDj5I4JzD"
      },
      "source": [
        "We built a pseudo-random number generator (PRNG) on the CMOD A7 FPGA using Verilog, enhanced with creative real-world entropy-based seeding.\n",
        "\n",
        "1. Connect light, air quality, and humidity sensors to the CMOD A7 FPGA, which are then digitzed with an ADC.\n",
        "2. Verilog module takes the seeds generated and outputs random numbers.\n",
        "3. A esp32 is used to read the output of random number from the FPGA and display in a screen.\n"
      ]
    },
    {
      "cell_type": "markdown",
      "metadata": {
        "id": "0Eh6Jy_MLwBu"
      },
      "source": [
        "## Setup"
      ]
    },
    {
      "cell_type": "markdown",
      "metadata": {},
      "source": [
        "There were few iterations of Chuas Circuit used for the PRNG. Iteration one was used the seeds as the Capacitor and Inductor Values where the iteration two used the seeds to define start point and no of steps that will be run.  We did a python version of the code to test all our iteration. It can be found in the same folder."
      ]
    },
    {
      "cell_type": "markdown",
      "metadata": {},
      "source": [
        "![alt text](image.png)"
      ]
    },
    {
      "cell_type": "markdown",
      "metadata": {
        "id": "r2-oxyOkbLgx"
      },
      "source": [
        "we ran the exact replica of the chua circuit in Python with 10 million steps with few different seeds and ploted the output."
      ]
    },
    {
      "cell_type": "markdown",
      "metadata": {},
      "source": [
        "![alt text](Figure_1.png)"
      ]
    },
    {
      "cell_type": "markdown",
      "metadata": {
        "id": "s3F396lN4JzS"
      },
      "source": [
        "## Video Demo"
      ]
    },
    {
      "cell_type": "markdown",
      "metadata": {
        "id": "nYHG_lTf4JzS"
      },
      "source": [
        "https://youtu.be/A6nzKqLxYok"
      ]
    },
    {
      "cell_type": "markdown",
      "metadata": {
        "id": "tfnC5eXw4JzT"
      },
      "source": [
        "## Challenges"
      ]
    },
    {
      "cell_type": "markdown",
      "metadata": {
        "id": "NVEaqBZz4JzT"
      },
      "source": [
        "- Testing the Chuas circuit in the FPGA required a lot of patience. It was our first time using Q16 calculations.\n",
        "- The UART transimission was laggy and required modifying the different buad rates and clock speeds to get a more robust transmission.\n",
        "- Our initial plan was to use  Runge-Kutta method for differentiation came across lots of challanges and eventually moved to Eulers method for the implementation of the circuit in FPGA. \n",
        "- The Seed values needed to be chatioc to get a truely random output, we did alot of different seeds finally we also added an Linear Feedback Shift Register to truely input a random number as seed."
      ]
    },
    {
      "cell_type": "markdown",
      "metadata": {
        "id": "hSHmTQx84JzT"
      },
      "source": [
        "## Lessons Learned"
      ]
    },
    {
      "cell_type": "markdown",
      "metadata": {
        "id": "5z4FLY1u4JzT"
      },
      "source": [
        "- Familiarise the tuning parameters for the UART communication.\n",
        "- Gaining a deeper understanding of Chuas Circuit.\n",
        "- Writing the program into flash memory of FPGA\n",
        "- Application of Chuas Circuit for random number generator."
      ]
    },
    {
      "cell_type": "markdown",
      "metadata": {
        "id": "1n3lzYz44JzT"
      },
      "source": [
        "## Use of AI to Verify Results"
      ]
    },
    {
      "cell_type": "markdown",
      "metadata": {
        "id": "t8NC9xpL4JzT"
      },
      "source": [
        "- Utilizing AI tools like Gemini for syntax verification and understanding of Verilog code.\n",
        "- Employing a Python verification script, with assistance from AI tools like ChatGPT and DeepSeek, to better understand and trouble the implimentation of chuas circuit in FPGA."
      ]
    }
  ],
  "metadata": {
    "colab": {
      "include_colab_link": true,
      "provenance": []
    },
    "kernelspec": {
      "display_name": "Python 3",
      "name": "python3"
    },
    "language_info": {
      "codemirror_mode": {
        "name": "ipython",
        "version": 3
      },
      "file_extension": ".py",
      "mimetype": "text/x-python",
      "name": "python",
      "nbconvert_exporter": "python",
      "pygments_lexer": "ipython3",
      "version": "3.10.11"
    },
    "widgets": {
      "application/vnd.jupyter.widget-state+json": {}
    }
  },
  "nbformat": 4,
  "nbformat_minor": 0
}
