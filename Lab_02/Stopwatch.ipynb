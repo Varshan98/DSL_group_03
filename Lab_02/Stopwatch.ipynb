{
  "cells": [
    {
      "cell_type": "markdown",
      "metadata": {
        "colab_type": "text",
        "id": "view-in-github"
      },
      "source": [
        "<a href=\"https://colab.research.google.com/github/Varshan98/DSL_group_03/blob/main/Stopwatch.ipynb\" target=\"_parent\"><img src=\"https://colab.research.google.com/assets/colab-badge.svg\" alt=\"Open In Colab\"/></a>"
      ]
    },
    {
      "cell_type": "markdown",
      "metadata": {
        "id": "0Eh6Jy_MLwBu"
      },
      "source": [
        "## Setup"
      ]
    },
    {
      "cell_type": "code",
      "execution_count": null,
      "metadata": {
        "colab": {
          "base_uri": "https://localhost:8080/"
        },
        "id": "lu_dcXspNbUE",
        "outputId": "092a5672-950e-4f24-c5ba-49263d78cf26"
      },
      "outputs": [
        {
          "name": "stdout",
          "output_type": "stream",
          "text": [
            "[INFO]: Init the Verilog ENV\n",
            "The plugin extension is already loaded. To reload it, use:\n",
            "  %reload_ext plugin\n"
          ]
        }
      ],
      "source": [
        "print(\"[INFO]: Init the Verilog ENV\")\n",
        "!pip install git+https://github.com/pe8sutd/eda4u &> /dev/null\n",
        "!git clone https://github.com/pe8sutd/eda4u &> /dev/null\n",
        "%load_ext plugin"
      ]
    },
    {
      "cell_type": "markdown",
      "metadata": {
        "id": "r2-oxyOkbLgx"
      },
      "source": [
        "##Stopwatch code"
      ]
    },
    {
      "cell_type": "code",
      "execution_count": null,
      "metadata": {
        "colab": {
          "base_uri": "https://localhost:8080/",
          "height": 95
        },
        "collapsed": true,
        "id": "FMBzQsBZsINZ",
        "outputId": "6bb21d5c-b8c2-4400-93dd-134c620711fb"
      },
      "outputs": [
        {
          "name": "stdout",
          "output_type": "stream",
          "text": [
            "Installing. Please wait... done!\n"
          ]
        },
        {
          "data": {
            "image/svg+xml": [
              "<svg xmlns=\"http://www.w3.org/2000/svg\" xmlns:xlink=\"http://www.w3.org/1999/xlink\" xmlns:s=\"https://github.com/nturley/netlistsvg\" width=\"185\" height=\"54\"><style>svg {\n",
              "  stroke:#000;\n",
              "  fill:none;\n",
              "}\n",
              "text {\n",
              "  fill:#000;\n",
              "  stroke:none;\n",
              "  font-size:10px;\n",
              "  font-weight: bold;\n",
              "  font-family: &quot;Courier New&quot;, monospace;\n",
              "}\n",
              "line {\n",
              "    stroke-linecap: round;\n",
              "}\n",
              ".nodelabel {\n",
              "  text-anchor: middle;\n",
              "}\n",
              ".inputPortLabel {\n",
              "  text-anchor: end;\n",
              "}\n",
              ".splitjoinBody {\n",
              "  fill:#000;\n",
              "}</style><g s:type=\"not\" transform=\"translate(78,22)\" s:width=\"30\" s:height=\"20\" id=\"cell_$not$/content/code.v:7$1\"><s:alias val=\"$_NOT_\"/><s:alias val=\"$not\"/><s:alias val=\"$logic_not\"/><path d=\"M0,0 L0,20 L20,10 Z\" class=\"cell_$not$/content/code.v:7$1\"/><circle cx=\"24\" cy=\"10\" r=\"3\" class=\"cell_$not$/content/code.v:7$1\"/><g s:x=\"-1\" s:y=\"10\" s:pid=\"A\"/><g s:x=\"27\" s:y=\"10\" s:pid=\"Y\"/></g><g s:type=\"inputExt\" transform=\"translate(12,22)\" s:width=\"30\" s:height=\"20\" id=\"cell_sw\"><text x=\"15\" y=\"-4\" class=\"nodelabel cell_sw\" s:attribute=\"ref\">sw</text><s:alias val=\"$_inputExt_\"/><path d=\"M0,0 L0,20 L15,20 L30,10 L15,0 Z\" class=\"cell_sw\"/><g s:x=\"30\" s:y=\"10\" s:pid=\"Y\"/></g><g s:type=\"outputExt\" transform=\"translate(143,22)\" s:width=\"30\" s:height=\"20\" id=\"cell_led\"><text x=\"15\" y=\"-4\" class=\"nodelabel cell_led\" s:attribute=\"ref\">led</text><s:alias val=\"$_outputExt_\"/><path d=\"M30,0 L30,20 L15,20 L0,10 L15,0 Z\" class=\"cell_led\"/><g s:x=\"0\" s:y=\"10\" s:pid=\"A\"/></g><line x1=\"42\" x2=\"77\" y1=\"32\" y2=\"32\" class=\"net_2 width_1\" style=\"stroke-width: 1\"/><line x1=\"105\" x2=\"143\" y1=\"32\" y2=\"32\" class=\"net_3 width_1\" style=\"stroke-width: 1\"/></svg>"
            ],
            "text/plain": [
              "<IPython.core.display.SVG object>"
            ]
          },
          "metadata": {},
          "output_type": "display_data"
        }
      ],
      "source": [
        "`timescale 1ns / 1ps \n",
        "\n",
        "///////\n",
        "module min_sec(output reg [3:0]min_ones,output reg [2:0]min_tens,output reg [3:0]sec_ones,output reg [3:0]sec_tens,input clk_1hz,input reset);\n",
        "\n",
        "  always @(posedge clk_1hz or posedge reset) begin\n",
        "    if (reset) begin\n",
        "       min_ones <= 4'd0;\n",
        "       min_tens <= 4'd0;\n",
        "       sec_ones <= 4'd0;\n",
        "       sec_tens <= 4'd0;\n",
        "    end \n",
        "    else if (sec_ones != 4'd9) begin\n",
        "    sec_ones <= sec_ones + 1'd1;\n",
        "end\n",
        "else begin\n",
        "    sec_ones <= 4'd0; // Reset sec_ones properly\n",
        "    if (sec_tens != 3'd5) // sec_tens should count up to 5 (0-5 for 60 seconds)\n",
        "        sec_tens <= sec_tens + 1'd1;\n",
        "    else begin\n",
        "        sec_ones <= 4'd0;\n",
        "        sec_tens <= 3'd0;\n",
        "        if (min_ones != 4'd9)\n",
        "            min_ones <= min_ones + 1'd1;\n",
        "        else begin\n",
        "            min_ones <= 4'd0;\n",
        "            if (min_tens != 3'd5) // min_tens should count up to 5 (0-5 for 60 minutes)\n",
        "                min_tens <= min_tens + 1'd1;\n",
        "            else\n",
        "                min_tens <= 3'd0;\n",
        "        end\n",
        "    end\n",
        "end\n",
        "  end\n",
        "endmodule\n",
        "///////\n",
        "\n",
        "///////\n",
        "module ssd(output reg[7:0]seg,output reg[3:0]an,input btnR,input clk);\n",
        "  reg[1:0]count; wire clk_100hz; wire clk_1hz;\n",
        "  wire [3:0]min_ones; wire [3:0]sec_ones; wire [2:0]min_tens; wire [2:0]sec_tens;\n",
        "\n",
        "  clk_100hz c0(.clk_100out(clk_100hz),.clk_in(clk),.reset(btnR));\n",
        "  clk_1hz c1(.clk_1out(clk_1hz),.clk_in(clk),.reset(btnR));\n",
        "  min_sec time_data(.min_ones(min_ones),.min_tens(min_tens),.sec_ones(sec_ones),.sec_tens(sec_tens),.clk_1hz(clk_1hz), .reset(btnR));\n",
        "  \n",
        "\n",
        "  always @(posedge clk_100hz or posedge btnR) begin\n",
        "    if (btnR)\n",
        "        count <= 2'b00;\n",
        "    else if (count != 2'b11)\n",
        "        count <= count + 1'b1;\n",
        "    else\n",
        "        count <= 2'b00;\n",
        "  end\n",
        "\n",
        "  always@(count) begin case(count) \n",
        "    2'b00: an<=4'b1110;\n",
        "    2'b01: an<=4'b1101;\n",
        "    2'b10: an<=4'b1011;\n",
        "    2'b11: an<=4'b0111;\n",
        "  endcase end\n",
        "  \n",
        "  always @*\n",
        "    case(count)\n",
        "        2'b00 : begin       \n",
        "                case(sec_ones)\n",
        "                    4'b0000 : seg = get_segment(4'b0000);\n",
        "                    4'b0001 : seg = get_segment(4'b0001);\n",
        "                    4'b0010 : seg = get_segment(4'b0010);\n",
        "                    4'b0011 : seg = get_segment(4'b0011);\n",
        "                    4'b0100 : seg = get_segment(4'b0100);\n",
        "                    4'b0101 : seg = get_segment(4'b0101);\n",
        "                    4'b0110 : seg = get_segment(4'b0110);\n",
        "                    4'b0111 : seg = get_segment(4'b0111);\n",
        "                    4'b1000 : seg = get_segment(4'b1000);\n",
        "                    4'b1001 : seg = get_segment(4'b1001);\n",
        "                endcase\n",
        "                end\n",
        "                \n",
        "        2'b01 : begin       \n",
        "                case(sec_tens)\n",
        "                    4'b0000 : seg = get_segment(4'b0000);\n",
        "                    4'b0001 : seg = get_segment(4'b0001);\n",
        "                    4'b0010 : seg = get_segment(4'b0010);\n",
        "                    4'b0011 : seg = get_segment(4'b0011);\n",
        "                    4'b0100 : seg = get_segment(4'b0100);\n",
        "                    4'b0101 : seg = get_segment(4'b0101);\n",
        "                endcase\n",
        "                end\n",
        "                \n",
        "         2'b10 : begin       \n",
        "                case(min_ones)\n",
        "                    4'b0000 : seg = get_segment(4'b0000);\n",
        "                    4'b0001 : seg = get_segment(4'b0001);\n",
        "                    4'b0010 : seg = get_segment(4'b0010);\n",
        "                    4'b0011 : seg = get_segment(4'b0011);\n",
        "                    4'b0100 : seg = get_segment(4'b0100);\n",
        "                    4'b0101 : seg = get_segment(4'b0101);\n",
        "                    4'b0110 : seg = get_segment(4'b0110);\n",
        "                    4'b0111 : seg = get_segment(4'b0111);\n",
        "                    4'b1000 : seg = get_segment(4'b1000);\n",
        "                    4'b1001 : seg = get_segment(4'b1001);\n",
        "                endcase\n",
        "                end\n",
        "                \n",
        "         2'b11 : begin       \n",
        "                case(min_tens)\n",
        "                    4'b0000 : seg = get_segment(4'b0000);\n",
        "                    4'b0001 : seg = get_segment(4'b0001);\n",
        "                    4'b0010 : seg = get_segment(4'b0010);\n",
        "                    4'b0011 : seg = get_segment(4'b0011);\n",
        "                    4'b0100 : seg = get_segment(4'b0100);\n",
        "                    4'b0101 : seg = get_segment(4'b0101);\n",
        "                endcase\n",
        "                end\n",
        "                \n",
        "      endcase\n",
        "         \n",
        "        \n",
        "    // Function to map numbers to 7-segment display encoding\n",
        "  function [7:0] get_segment;\n",
        "    input [3:0] num;\n",
        "    begin\n",
        "      case(num)\n",
        "        4'b0000: get_segment = 8'b11000000;    // \"0\"\n",
        "        4'b0001: get_segment = 8'b11111001;    // \"1\"\n",
        "        4'b0010: get_segment = 8'b10100100;    // \"2\"\n",
        "        4'b0011: get_segment = 8'b10110000;    // \"3\"\n",
        "        4'b0100: get_segment = 8'b10011001;    // \"4\"\n",
        "        4'b0101: get_segment = 8'b10010010;    // \"5\"\n",
        "        4'b0110: get_segment = 8'b10000010;    // \"6\"\n",
        "        4'b0111: get_segment = 8'b11111000;    // \"7\"\n",
        "        4'b1000: get_segment = 8'b10000000;    // \"8\"\n",
        "        4'b1001: get_segment = 8'b10010000;    // \"9\"\n",
        "        default: get_segment = 8'hFF;          // Blank\n",
        "      endcase\n",
        "    end\n",
        "  endfunction\n",
        "endmodule\n",
        "///////\n",
        "\n",
        "///////\n",
        "module clk_100hz(output reg clk_100out, input clk_in, reset);\n",
        "  reg [17:0] count;  // 18-bit counter to count up to 250,000\n",
        "\n",
        "  always @(posedge clk_in or posedge reset) begin\n",
        "    if (reset) begin\n",
        "      count <= 18'd0;\n",
        "      clk_100out <= 1'b0;\n",
        "    end\n",
        "    else if (count == 18'd249999) begin\n",
        "      clk_100out <= ~clk_100out; // Toggle output clock\n",
        "      count <= 18'd0; // Reset counter\n",
        "    end\n",
        "    else begin\n",
        "      count <= count + 1'b1;\n",
        "    end\n",
        "  end\n",
        "endmodule\n",
        "///////\n",
        "\n",
        "///////\n",
        "module clk_1hz(output reg clk_1out, input clk_in, reset);\n",
        "  reg [26:0] count;  // 27-bit counter to store up to 100M cycles\n",
        "\n",
        "  always @(posedge clk_in or posedge reset) begin\n",
        "    if (reset) begin\n",
        "      count <= 27'd0;\n",
        "      clk_1out <= 1'b0;\n",
        "    end \n",
        "    else if (count == 27'd49_999_999) begin  // Toggle at half-cycle (50M counts)\n",
        "      clk_1out <= ~clk_1out;  // Toggle clock output\n",
        "      count <= 27'd0;  // Reset counter\n",
        "    end \n",
        "    else begin\n",
        "      count <= count + 1'b1;\n",
        "    end\n",
        "  end\n",
        "endmodule\n",
        "///////"
      ]
    }
  ],
  "metadata": {
    "colab": {
      "include_colab_link": true,
      "provenance": []
    },
    "kernelspec": {
      "display_name": "Python 3",
      "name": "python3"
    },
    "language_info": {
      "codemirror_mode": {
        "name": "ipython",
        "version": 3
      },
      "file_extension": ".py",
      "mimetype": "text/x-python",
      "name": "python",
      "nbconvert_exporter": "python",
      "pygments_lexer": "ipython3",
      "version": "3.10.12"
    }
  },
  "nbformat": 4,
  "nbformat_minor": 0
}
