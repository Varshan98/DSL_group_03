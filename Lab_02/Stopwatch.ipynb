{
  "cells": [
    {
      "cell_type": "markdown",
      "metadata": {
        "id": "view-in-github",
        "colab_type": "text"
      },
      "source": [
        "<a href=\"https://colab.research.google.com/github/Varshan98/DSL_group_03/blob/main/Stopwatch.ipynb\" target=\"_parent\"><img src=\"https://colab.research.google.com/assets/colab-badge.svg\" alt=\"Open In Colab\"/></a>"
      ]
    },
    {
      "cell_type": "markdown",
      "source": [
        "## Setup"
      ],
      "metadata": {
        "id": "0Eh6Jy_MLwBu"
      }
    },
    {
      "cell_type": "code",
      "execution_count": null,
      "metadata": {
        "id": "lu_dcXspNbUE",
        "colab": {
          "base_uri": "https://localhost:8080/"
        },
        "outputId": "092a5672-950e-4f24-c5ba-49263d78cf26"
      },
      "outputs": [
        {
          "output_type": "stream",
          "name": "stdout",
          "text": [
            "[INFO]: Init the Verilog ENV\n",
            "The plugin extension is already loaded. To reload it, use:\n",
            "  %reload_ext plugin\n"
          ]
        }
      ],
      "source": [
        "print(\"[INFO]: Init the Verilog ENV\")\n",
        "!pip install git+https://github.com/pe8sutd/eda4u &> /dev/null\n",
        "!git clone https://github.com/pe8sutd/eda4u &> /dev/null\n",
        "%load_ext plugin"
      ]
    },
    {
      "cell_type": "markdown",
      "source": [
        "## NOT Gate"
      ],
      "metadata": {
        "id": "r2-oxyOkbLgx"
      }
    },
    {
      "cell_type": "code",
      "execution_count": null,
      "metadata": {
        "collapsed": true,
        "id": "FMBzQsBZsINZ",
        "colab": {
          "base_uri": "https://localhost:8080/",
          "height": 95
        },
        "outputId": "6bb21d5c-b8c2-4400-93dd-134c620711fb"
      },
      "outputs": [
        {
          "output_type": "stream",
          "name": "stdout",
          "text": [
            "Installing. Please wait... done!\n"
          ]
        },
        {
          "output_type": "display_data",
          "data": {
            "text/plain": [
              "<IPython.core.display.SVG object>"
            ],
            "image/svg+xml": "<svg xmlns=\"http://www.w3.org/2000/svg\" xmlns:xlink=\"http://www.w3.org/1999/xlink\" xmlns:s=\"https://github.com/nturley/netlistsvg\" width=\"185\" height=\"54\"><style>svg {\n  stroke:#000;\n  fill:none;\n}\ntext {\n  fill:#000;\n  stroke:none;\n  font-size:10px;\n  font-weight: bold;\n  font-family: &quot;Courier New&quot;, monospace;\n}\nline {\n    stroke-linecap: round;\n}\n.nodelabel {\n  text-anchor: middle;\n}\n.inputPortLabel {\n  text-anchor: end;\n}\n.splitjoinBody {\n  fill:#000;\n}</style><g s:type=\"not\" transform=\"translate(78,22)\" s:width=\"30\" s:height=\"20\" id=\"cell_$not$/content/code.v:7$1\"><s:alias val=\"$_NOT_\"/><s:alias val=\"$not\"/><s:alias val=\"$logic_not\"/><path d=\"M0,0 L0,20 L20,10 Z\" class=\"cell_$not$/content/code.v:7$1\"/><circle cx=\"24\" cy=\"10\" r=\"3\" class=\"cell_$not$/content/code.v:7$1\"/><g s:x=\"-1\" s:y=\"10\" s:pid=\"A\"/><g s:x=\"27\" s:y=\"10\" s:pid=\"Y\"/></g><g s:type=\"inputExt\" transform=\"translate(12,22)\" s:width=\"30\" s:height=\"20\" id=\"cell_sw\"><text x=\"15\" y=\"-4\" class=\"nodelabel cell_sw\" s:attribute=\"ref\">sw</text><s:alias val=\"$_inputExt_\"/><path d=\"M0,0 L0,20 L15,20 L30,10 L15,0 Z\" class=\"cell_sw\"/><g s:x=\"30\" s:y=\"10\" s:pid=\"Y\"/></g><g s:type=\"outputExt\" transform=\"translate(143,22)\" s:width=\"30\" s:height=\"20\" id=\"cell_led\"><text x=\"15\" y=\"-4\" class=\"nodelabel cell_led\" s:attribute=\"ref\">led</text><s:alias val=\"$_outputExt_\"/><path d=\"M30,0 L30,20 L15,20 L0,10 L15,0 Z\" class=\"cell_led\"/><g s:x=\"0\" s:y=\"10\" s:pid=\"A\"/></g><line x1=\"42\" x2=\"77\" y1=\"32\" y2=\"32\" class=\"net_2 width_1\" style=\"stroke-width: 1\"/><line x1=\"105\" x2=\"143\" y1=\"32\" y2=\"32\" class=\"net_3 width_1\" style=\"stroke-width: 1\"/></svg>"
          },
          "metadata": {}
        }
      ],
      "source": [
        "%%print_verilog\n",
        "//\n",
        "module logic_gate(\n",
        "    input sw,      // 2-bit input (sw[1], sw[0]), use 1 bit only\n",
        "    output led     // 8-bit output (led[7:0]), use 1 bit only\n",
        ");\n",
        "    // Logic gate implementations\n",
        "    assign led = ~sw;       // NOT A\n",
        "\n",
        "    //Your Code Here;\n",
        "    //Try to use different methods e.g. assign, instance;\n",
        "endmodule\n",
        "//"
      ]
    },
    {
      "cell_type": "code",
      "execution_count": null,
      "metadata": {
        "id": "mj-ujkGmrwN4",
        "colab": {
          "base_uri": "https://localhost:8080/"
        },
        "outputId": "46ab4224-be7c-420f-f92c-788e78c50369"
      },
      "outputs": [
        {
          "output_type": "stream",
          "name": "stdout",
          "text": [
            "VCD info: dumpfile tb.vcd opened for output.\n",
            "\n"
          ]
        }
      ],
      "source": [
        "%%verilog\n",
        "//\n",
        "module logic_gate(\n",
        "    input sw,      // 2-bit input (sw[1], sw[0]), use 1 bit only\n",
        "    output led     // 8-bit output (led[7:0]), use 1 bit only\n",
        ");\n",
        "    // Logic gate implementations\n",
        "    assign led = ~sw;       // NOT A\n",
        "\n",
        "    //Your Code Here;\n",
        "    //Try to use different methods e.g. assign, instance;\n",
        "endmodule\n",
        "//\n",
        "\n",
        "//\n",
        "module tb;\n",
        "    reg sw;\n",
        "    wire led;\n",
        "\n",
        "    logic_gate uut (sw, led);\n",
        "\n",
        "initial begin\n",
        "    $dumpfile(\"tb.vcd\");\n",
        "    $dumpvars(0,tb);\n",
        "\n",
        "        sw =  1'b0;\n",
        "        #1 sw = 1'b1;\n",
        "        #1 $finish;\n",
        "\n",
        "    $dumpoff;\n",
        "end\n",
        "\n",
        "endmodule\n",
        "//"
      ]
    },
    {
      "cell_type": "code",
      "execution_count": null,
      "metadata": {
        "id": "grHLEhKvsNtP",
        "collapsed": true,
        "colab": {
          "base_uri": "https://localhost:8080/",
          "height": 291
        },
        "outputId": "b906e251-6ebc-48cd-dc21-7fc9e8456049"
      },
      "outputs": [
        {
          "output_type": "display_data",
          "data": {
            "text/plain": [
              "<Figure size 400x300 with 1 Axes>"
            ],
            "image/png": "[encoded data removed]"
          },
          "metadata": {}
        }
      ],
      "source": [
        "%%waveform tb.vcd\n",
        "sign_list = ['tb.sw','tb.led']\n",
        "time_begin = 0\n",
        "time_end = 3\n",
        "base = 'bin' # bin, dec, dec2, hex, octal"
      ]
    }
  ],
  "metadata": {
    "colab": {
      "provenance": [],
      "include_colab_link": true
    },
    "kernelspec": {
      "display_name": "Python 3",
      "name": "python3"
    },
    "language_info": {
      "codemirror_mode": {
        "name": "ipython",
        "version": 3
      },
      "file_extension": ".py",
      "mimetype": "text/x-python",
      "name": "python",
      "nbconvert_exporter": "python",
      "pygments_lexer": "ipython3",
      "version": "3.10.12"
    }
  },
  "nbformat": 4,
  "nbformat_minor": 0
}